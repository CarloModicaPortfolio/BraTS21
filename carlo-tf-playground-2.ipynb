{
 "cells": [
  {
   "cell_type": "markdown",
   "id": "802575e9",
   "metadata": {
    "papermill": {
     "duration": 0.031036,
     "end_time": "2021-10-08T16:17:41.204991",
     "exception": false,
     "start_time": "2021-10-08T16:17:41.173955",
     "status": "completed"
    },
    "tags": []
   },
   "source": [
    "I'm reading through several existing notebooks and trying to distill down the information into a new notebook to help me understand the project.  All help appreciated!\n",
    "\n",
    "# References\n",
    "\n",
    "- [Advanced EDA - Brain Tumor Data](https://www.kaggle.com/smoschou55/advanced-eda-brain-tumor-data)\n",
    "- [Team 9 Second Week](https://www.kaggle.com/evanyao27/team-9-second-week)\n",
    "  - The only model that is working. get_model02()\n",
    "- [Dataset to Model with Tensorflow](https://www.kaggle.com/ohbewise/dataset-to-model-with-tensorflow)\n",
    "- [Brain Tumer Train Class Flair](https://www.kaggle.com/lucamtb/brain-tumer-train-class-flair)\n",
    "  - Uses TPU\n",
    "  - Generates a Tensorflow model: Brain_flair_model_effect_3e-05_0.0001.h5\n",
    "- [Brain Tumor very basic inference](https://www.kaggle.com/lucamtb/brain-tumor-very-basice-inference)\n",
    "  - Uses the above mentioned model: Brain_flair_model_effect_3e-05_0.0001.h5\n",
    "  - Add this Kaggle Dataset: https://www.kaggle.com/lucamtb/effect0-brain"
   ]
  },
  {
   "cell_type": "markdown",
   "id": "d46020ce",
   "metadata": {
    "papermill": {
     "duration": 0.029337,
     "end_time": "2021-10-08T16:17:41.265547",
     "exception": false,
     "start_time": "2021-10-08T16:17:41.236210",
     "status": "completed"
    },
    "tags": []
   },
   "source": [
    "# Load Libraries"
   ]
  },
  {
   "cell_type": "code",
   "execution_count": 1,
   "id": "2610d7e6",
   "metadata": {
    "execution": {
     "iopub.execute_input": "2021-10-08T16:17:41.404004Z",
     "iopub.status.busy": "2021-10-08T16:17:41.403394Z",
     "iopub.status.idle": "2021-10-08T16:17:46.373401Z",
     "shell.execute_reply": "2021-10-08T16:17:46.374535Z",
     "shell.execute_reply.started": "2021-10-08T15:44:51.181068Z"
    },
    "papermill": {
     "duration": 5.080845,
     "end_time": "2021-10-08T16:17:46.374906",
     "exception": false,
     "start_time": "2021-10-08T16:17:41.294061",
     "status": "completed"
    },
    "tags": []
   },
   "outputs": [
    {
     "name": "stderr",
     "output_type": "stream",
     "text": [
      "2021-10-08 16:17:42.759949: I tensorflow/stream_executor/platform/default/dso_loader.cc:49] Successfully opened dynamic library libcudart.so.11.0\n"
     ]
    }
   ],
   "source": [
    "import os\n",
    "import glob\n",
    "\n",
    "import pandas as pd\n",
    "import numpy as np\n",
    "from pathlib import Path\n",
    "\n",
    "import random\n",
    "from tqdm.notebook import tqdm\n",
    "import pydicom # Handle MRI images\n",
    "\n",
    "import cv2  # OpenCV - https://docs.opencv.org/master/d6/d00/tutorial_py_root.html\n",
    "\n",
    "from sklearn.model_selection import train_test_split\n",
    "from sklearn.metrics import roc_auc_score\n",
    "\n",
    "\n",
    "import tensorflow as tf\n",
    "from tensorflow import keras\n",
    "from tensorflow.keras.utils import to_categorical\n",
    "from tensorflow.keras import layers\n"
   ]
  },
  {
   "cell_type": "markdown",
   "id": "7f43d934",
   "metadata": {
    "papermill": {
     "duration": 0.042672,
     "end_time": "2021-10-08T16:17:46.468308",
     "exception": false,
     "start_time": "2021-10-08T16:17:46.425636",
     "status": "completed"
    },
    "tags": []
   },
   "source": [
    "# Configuration, Constants, Setup"
   ]
  },
  {
   "cell_type": "code",
   "execution_count": 2,
   "id": "2d08dcfb",
   "metadata": {
    "execution": {
     "iopub.execute_input": "2021-10-08T16:17:46.531027Z",
     "iopub.status.busy": "2021-10-08T16:17:46.530150Z",
     "iopub.status.idle": "2021-10-08T16:17:46.531941Z",
     "shell.execute_reply": "2021-10-08T16:17:46.532352Z",
     "shell.execute_reply.started": "2021-10-08T15:44:51.189209Z"
    },
    "papermill": {
     "duration": 0.035466,
     "end_time": "2021-10-08T16:17:46.532488",
     "exception": false,
     "start_time": "2021-10-08T16:17:46.497022",
     "status": "completed"
    },
    "tags": []
   },
   "outputs": [],
   "source": [
    "data_dir = Path('../input/rsna-miccai-brain-tumor-radiogenomic-classification/')\n",
    "\n",
    "mri_types = [\"FLAIR\", \"T1w\", \"T2w\", \"T1wCE\"]\n",
    "excluded_images = [109, 123, 709] # Bad images"
   ]
  },
  {
   "cell_type": "code",
   "execution_count": null,
   "id": "5d5c0985",
   "metadata": {
    "papermill": {
     "duration": 0.028153,
     "end_time": "2021-10-08T16:17:46.589010",
     "exception": false,
     "start_time": "2021-10-08T16:17:46.560857",
     "status": "completed"
    },
    "tags": []
   },
   "outputs": [],
   "source": []
  },
  {
   "cell_type": "markdown",
   "id": "5520b1b1",
   "metadata": {
    "papermill": {
     "duration": 0.0281,
     "end_time": "2021-10-08T16:17:46.645617",
     "exception": false,
     "start_time": "2021-10-08T16:17:46.617517",
     "status": "completed"
    },
    "tags": []
   },
   "source": [
    "# Load Datasets"
   ]
  },
  {
   "cell_type": "code",
   "execution_count": 3,
   "id": "48116a3d",
   "metadata": {
    "execution": {
     "iopub.execute_input": "2021-10-08T16:17:46.708470Z",
     "iopub.status.busy": "2021-10-08T16:17:46.707890Z",
     "iopub.status.idle": "2021-10-08T16:17:46.733509Z",
     "shell.execute_reply": "2021-10-08T16:17:46.732917Z",
     "shell.execute_reply.started": "2021-10-08T15:44:51.202371Z"
    },
    "papermill": {
     "duration": 0.059817,
     "end_time": "2021-10-08T16:17:46.733686",
     "exception": false,
     "start_time": "2021-10-08T16:17:46.673869",
     "status": "completed"
    },
    "tags": []
   },
   "outputs": [
    {
     "name": "stdout",
     "output_type": "stream",
     "text": [
      "train data: Rows=582, Columns=2\n"
     ]
    }
   ],
   "source": [
    "train_df = pd.read_csv(data_dir / \"train_labels.csv\",\n",
    "#                        index='id',\n",
    "#                       nrows=100000\n",
    "                      )\n",
    "test_df = pd.read_csv(data_dir / \"sample_submission.csv\")\n",
    "sample_submission = pd.read_csv(data_dir / \"sample_submission.csv\")\n",
    "\n",
    "train_df = train_df[~train_df.BraTS21ID.isin(excluded_images)]\n",
    "\n",
    "print(f\"train data: Rows={train_df.shape[0]}, Columns={train_df.shape[1]}\")\n",
    "# print(f\"test data : Rows={test_df.shape[0]}, Columns={test_df.shape[1]}\")"
   ]
  },
  {
   "cell_type": "markdown",
   "id": "109f7f6b",
   "metadata": {
    "papermill": {
     "duration": 0.028493,
     "end_time": "2021-10-08T16:17:46.791776",
     "exception": false,
     "start_time": "2021-10-08T16:17:46.763283",
     "status": "completed"
    },
    "tags": []
   },
   "source": [
    "# Utility Functions"
   ]
  },
  {
   "cell_type": "markdown",
   "id": "53bf960e",
   "metadata": {
    "papermill": {
     "duration": 0.028294,
     "end_time": "2021-10-08T16:17:46.848866",
     "exception": false,
     "start_time": "2021-10-08T16:17:46.820572",
     "status": "completed"
    },
    "tags": []
   },
   "source": [
    "### There's a version that converts into grayscale: \n",
    "\n",
    "- https://www.kaggle.com/smoschou55/advanced-eda-brain-tumor-data\n"
   ]
  },
  {
   "cell_type": "code",
   "execution_count": 4,
   "id": "b70b8234",
   "metadata": {
    "execution": {
     "iopub.execute_input": "2021-10-08T16:17:46.912579Z",
     "iopub.status.busy": "2021-10-08T16:17:46.911695Z",
     "iopub.status.idle": "2021-10-08T16:17:46.913596Z",
     "shell.execute_reply": "2021-10-08T16:17:46.914016Z",
     "shell.execute_reply.started": "2021-10-08T15:44:51.228555Z"
    },
    "papermill": {
     "duration": 0.036728,
     "end_time": "2021-10-08T16:17:46.914148",
     "exception": false,
     "start_time": "2021-10-08T16:17:46.877420",
     "status": "completed"
    },
    "tags": []
   },
   "outputs": [],
   "source": [
    "def load_dicom(path, size = 224):\n",
    "    ''' \n",
    "    Reads a DICOM image, standardizes so that the pixel values are between 0 and 1, then rescales to 0 and 255\n",
    "    \n",
    "    Not super sure if this kind of scaling is appropriate, but everyone seems to do it. \n",
    "    '''\n",
    "    dicom = pydicom.read_file(path)\n",
    "    data = dicom.pixel_array\n",
    "    # transform data into black and white scale / grayscale\n",
    "#     data = data - np.min(data)\n",
    "    if np.max(data) != 0:\n",
    "        data = data / np.max(data)\n",
    "    data = (data * 255).astype(np.uint8)\n",
    "    return cv2.resize(data, (size, size))"
   ]
  },
  {
   "cell_type": "code",
   "execution_count": 5,
   "id": "7607008c",
   "metadata": {
    "execution": {
     "iopub.execute_input": "2021-10-08T16:17:46.980839Z",
     "iopub.status.busy": "2021-10-08T16:17:46.979873Z",
     "iopub.status.idle": "2021-10-08T16:17:46.981837Z",
     "shell.execute_reply": "2021-10-08T16:17:46.982268Z",
     "shell.execute_reply.started": "2021-10-08T15:44:51.236176Z"
    },
    "papermill": {
     "duration": 0.039946,
     "end_time": "2021-10-08T16:17:46.982403",
     "exception": false,
     "start_time": "2021-10-08T16:17:46.942457",
     "status": "completed"
    },
    "tags": []
   },
   "outputs": [],
   "source": [
    "def get_all_image_paths(brats21id, image_type, folder='train'): \n",
    "    '''\n",
    "    Returns an arry of all the images of a particular type for a particular patient ID\n",
    "    '''\n",
    "    assert(image_type in mri_types)\n",
    "    \n",
    "    patient_path = os.path.join(\n",
    "        \"../input/rsna-miccai-brain-tumor-radiogenomic-classification/%s/\" % folder, \n",
    "        str(brats21id).zfill(5),\n",
    "    )\n",
    "\n",
    "    paths = sorted(\n",
    "        glob.glob(os.path.join(patient_path, image_type, \"*\")), \n",
    "        key=lambda x: int(x[:-4].split(\"-\")[-1]),\n",
    "    )\n",
    "    \n",
    "    num_images = len(paths)\n",
    "    \n",
    "    start = int(num_images * 0.25)\n",
    "    end = int(num_images * 0.75)\n",
    "\n",
    "    interval = 3\n",
    "    \n",
    "    if num_images < 10: \n",
    "        interval = 1\n",
    "    \n",
    "    return np.array(paths[start:end:interval])\n",
    "\n",
    "def get_all_images(brats21id, image_type, folder='train', size=225):\n",
    "    return [load_dicom(path, size) for path in get_all_image_paths(brats21id, image_type, folder)]"
   ]
  },
  {
   "cell_type": "markdown",
   "id": "bfdb0f43",
   "metadata": {
    "papermill": {
     "duration": 0.028629,
     "end_time": "2021-10-08T16:17:47.040877",
     "exception": false,
     "start_time": "2021-10-08T16:17:47.012248",
     "status": "completed"
    },
    "tags": []
   },
   "source": [
    "# Load Images We Will Need"
   ]
  },
  {
   "cell_type": "code",
   "execution_count": 6,
   "id": "96667e14",
   "metadata": {
    "execution": {
     "iopub.execute_input": "2021-10-08T16:17:47.105107Z",
     "iopub.status.busy": "2021-10-08T16:17:47.104278Z",
     "iopub.status.idle": "2021-10-08T16:17:47.106595Z",
     "shell.execute_reply": "2021-10-08T16:17:47.106164Z",
     "shell.execute_reply.started": "2021-10-08T15:44:51.249402Z"
    },
    "papermill": {
     "duration": 0.037328,
     "end_time": "2021-10-08T16:17:47.106731",
     "exception": false,
     "start_time": "2021-10-08T16:17:47.069403",
     "status": "completed"
    },
    "tags": []
   },
   "outputs": [],
   "source": [
    "def get_all_data_for_train(image_type, image_size=32):\n",
    "    global train_df\n",
    "    \n",
    "    X = []\n",
    "    y = []\n",
    "    train_ids = []\n",
    "\n",
    "    for i in tqdm(train_df.index):\n",
    "        x = train_df.loc[i]\n",
    "        images = get_all_images(int(x['BraTS21ID']), image_type, 'train', image_size)\n",
    "        label = x['MGMT_value']\n",
    "\n",
    "        X += images\n",
    "        y += [label] * len(images)\n",
    "        train_ids += [int(x['BraTS21ID'])] * len(images)\n",
    "        assert(len(X) == len(y))\n",
    "    return np.array(X), np.array(y), np.array(train_ids)"
   ]
  },
  {
   "cell_type": "code",
   "execution_count": 7,
   "id": "0d6bb718",
   "metadata": {
    "execution": {
     "iopub.execute_input": "2021-10-08T16:17:47.170563Z",
     "iopub.status.busy": "2021-10-08T16:17:47.169710Z",
     "iopub.status.idle": "2021-10-08T16:17:47.171498Z",
     "shell.execute_reply": "2021-10-08T16:17:47.171977Z",
     "shell.execute_reply.started": "2021-10-08T15:44:51.261128Z"
    },
    "papermill": {
     "duration": 0.03685,
     "end_time": "2021-10-08T16:17:47.172116",
     "exception": false,
     "start_time": "2021-10-08T16:17:47.135266",
     "status": "completed"
    },
    "tags": []
   },
   "outputs": [],
   "source": [
    "def get_all_data_for_test(image_type, image_size=32):\n",
    "    global test_df\n",
    "    \n",
    "    X = []\n",
    "    test_ids = []\n",
    "\n",
    "    for i in tqdm(test_df.index):\n",
    "        x = test_df.loc[i]\n",
    "        images = get_all_images(int(x['BraTS21ID']), image_type, 'test', image_size)\n",
    "        X += images\n",
    "        test_ids += [int(x['BraTS21ID'])] * len(images)\n",
    "\n",
    "    return np.array(X), np.array(test_ids)"
   ]
  },
  {
   "cell_type": "code",
   "execution_count": 8,
   "id": "3896566a",
   "metadata": {
    "execution": {
     "iopub.execute_input": "2021-10-08T16:17:47.235129Z",
     "iopub.status.busy": "2021-10-08T16:17:47.234310Z",
     "iopub.status.idle": "2021-10-08T16:20:10.433844Z",
     "shell.execute_reply": "2021-10-08T16:20:10.433405Z",
     "shell.execute_reply.started": "2021-10-08T15:44:51.270680Z"
    },
    "papermill": {
     "duration": 143.232932,
     "end_time": "2021-10-08T16:20:10.433981",
     "exception": false,
     "start_time": "2021-10-08T16:17:47.201049",
     "status": "completed"
    },
    "tags": []
   },
   "outputs": [
    {
     "data": {
      "application/vnd.jupyter.widget-view+json": {
       "model_id": "3dad07ebc7844e929c86750c74b207bf",
       "version_major": 2,
       "version_minor": 0
      },
      "text/plain": [
       "  0%|          | 0/582 [00:00<?, ?it/s]"
      ]
     },
     "metadata": {},
     "output_type": "display_data"
    },
    {
     "data": {
      "application/vnd.jupyter.widget-view+json": {
       "model_id": "f3760ef3018e4f7f8bdea1102dceca5b",
       "version_major": 2,
       "version_minor": 0
      },
      "text/plain": [
       "  0%|          | 0/87 [00:00<?, ?it/s]"
      ]
     },
     "metadata": {},
     "output_type": "display_data"
    }
   ],
   "source": [
    "X, y, trainidt = get_all_data_for_train('T1wCE', image_size=32)\n",
    "X_test, testidt = get_all_data_for_test('T1wCE', image_size=32)"
   ]
  },
  {
   "cell_type": "code",
   "execution_count": 9,
   "id": "9bab8ddc",
   "metadata": {
    "execution": {
     "iopub.execute_input": "2021-10-08T16:20:10.502876Z",
     "iopub.status.busy": "2021-10-08T16:20:10.502294Z",
     "iopub.status.idle": "2021-10-08T16:20:10.507809Z",
     "shell.execute_reply": "2021-10-08T16:20:10.508264Z",
     "shell.execute_reply.started": "2021-10-08T15:45:36.591114Z"
    },
    "papermill": {
     "duration": 0.042585,
     "end_time": "2021-10-08T16:20:10.508400",
     "exception": false,
     "start_time": "2021-10-08T16:20:10.465815",
     "status": "completed"
    },
    "tags": []
   },
   "outputs": [
    {
     "data": {
      "text/plain": [
       "((16196, 32, 32), (16196,), (16196,))"
      ]
     },
     "execution_count": 9,
     "metadata": {},
     "output_type": "execute_result"
    }
   ],
   "source": [
    "X.shape, y.shape, trainidt.shape"
   ]
  },
  {
   "cell_type": "markdown",
   "id": "eee70d44",
   "metadata": {
    "papermill": {
     "duration": 0.029546,
     "end_time": "2021-10-08T16:20:10.567863",
     "exception": false,
     "start_time": "2021-10-08T16:20:10.538317",
     "status": "completed"
    },
    "tags": []
   },
   "source": [
    "# Train/Validation Split"
   ]
  },
  {
   "cell_type": "code",
   "execution_count": 10,
   "id": "6f939e38",
   "metadata": {
    "execution": {
     "iopub.execute_input": "2021-10-08T16:20:10.634674Z",
     "iopub.status.busy": "2021-10-08T16:20:10.633617Z",
     "iopub.status.idle": "2021-10-08T16:20:10.644749Z",
     "shell.execute_reply": "2021-10-08T16:20:10.644269Z",
     "shell.execute_reply.started": "2021-10-08T15:45:36.601301Z"
    },
    "papermill": {
     "duration": 0.047302,
     "end_time": "2021-10-08T16:20:10.644882",
     "exception": false,
     "start_time": "2021-10-08T16:20:10.597580",
     "status": "completed"
    },
    "tags": []
   },
   "outputs": [],
   "source": [
    "X_train, X_valid, y_train, y_valid, trainidt_train, trainidt_valid = train_test_split(X, y, trainidt, test_size=0.2, random_state=42)"
   ]
  },
  {
   "cell_type": "markdown",
   "id": "afff7fe2",
   "metadata": {
    "papermill": {
     "duration": 0.029428,
     "end_time": "2021-10-08T16:20:10.703985",
     "exception": false,
     "start_time": "2021-10-08T16:20:10.674557",
     "status": "completed"
    },
    "tags": []
   },
   "source": [
    "## Adding a Dimension"
   ]
  },
  {
   "cell_type": "code",
   "execution_count": 11,
   "id": "3f7e963a",
   "metadata": {
    "execution": {
     "iopub.execute_input": "2021-10-08T16:20:10.768924Z",
     "iopub.status.busy": "2021-10-08T16:20:10.767786Z",
     "iopub.status.idle": "2021-10-08T16:20:10.770843Z",
     "shell.execute_reply": "2021-10-08T16:20:10.771244Z",
     "shell.execute_reply.started": "2021-10-08T15:45:36.620322Z"
    },
    "papermill": {
     "duration": 0.038196,
     "end_time": "2021-10-08T16:20:10.771372",
     "exception": false,
     "start_time": "2021-10-08T16:20:10.733176",
     "status": "completed"
    },
    "tags": []
   },
   "outputs": [
    {
     "data": {
      "text/plain": [
       "(12956, 32, 32)"
      ]
     },
     "execution_count": 11,
     "metadata": {},
     "output_type": "execute_result"
    }
   ],
   "source": [
    "X_train.shape"
   ]
  },
  {
   "cell_type": "code",
   "execution_count": 12,
   "id": "40bfc1fb",
   "metadata": {
    "execution": {
     "iopub.execute_input": "2021-10-08T16:20:10.969289Z",
     "iopub.status.busy": "2021-10-08T16:20:10.968241Z",
     "iopub.status.idle": "2021-10-08T16:20:12.738434Z",
     "shell.execute_reply": "2021-10-08T16:20:12.737865Z",
     "shell.execute_reply.started": "2021-10-08T15:45:36.630715Z"
    },
    "papermill": {
     "duration": 1.93775,
     "end_time": "2021-10-08T16:20:12.738561",
     "exception": false,
     "start_time": "2021-10-08T16:20:10.800811",
     "status": "completed"
    },
    "tags": []
   },
   "outputs": [
    {
     "name": "stderr",
     "output_type": "stream",
     "text": [
      "2021-10-08 16:20:10.836789: I tensorflow/compiler/jit/xla_cpu_device.cc:41] Not creating XLA devices, tf_xla_enable_xla_devices not set\n",
      "2021-10-08 16:20:10.839951: I tensorflow/stream_executor/platform/default/dso_loader.cc:49] Successfully opened dynamic library libcuda.so.1\n",
      "2021-10-08 16:20:10.876730: I tensorflow/stream_executor/cuda/cuda_gpu_executor.cc:941] successful NUMA node read from SysFS had negative value (-1), but there must be at least one NUMA node, so returning NUMA node zero\n",
      "2021-10-08 16:20:10.877381: I tensorflow/core/common_runtime/gpu/gpu_device.cc:1720] Found device 0 with properties: \n",
      "pciBusID: 0000:00:04.0 name: Tesla P100-PCIE-16GB computeCapability: 6.0\n",
      "coreClock: 1.3285GHz coreCount: 56 deviceMemorySize: 15.90GiB deviceMemoryBandwidth: 681.88GiB/s\n",
      "2021-10-08 16:20:10.877443: I tensorflow/stream_executor/platform/default/dso_loader.cc:49] Successfully opened dynamic library libcudart.so.11.0\n",
      "2021-10-08 16:20:10.904230: I tensorflow/stream_executor/platform/default/dso_loader.cc:49] Successfully opened dynamic library libcublas.so.11\n",
      "2021-10-08 16:20:10.904365: I tensorflow/stream_executor/platform/default/dso_loader.cc:49] Successfully opened dynamic library libcublasLt.so.11\n",
      "2021-10-08 16:20:10.919556: I tensorflow/stream_executor/platform/default/dso_loader.cc:49] Successfully opened dynamic library libcufft.so.10\n",
      "2021-10-08 16:20:10.927748: I tensorflow/stream_executor/platform/default/dso_loader.cc:49] Successfully opened dynamic library libcurand.so.10\n",
      "2021-10-08 16:20:10.951795: I tensorflow/stream_executor/platform/default/dso_loader.cc:49] Successfully opened dynamic library libcusolver.so.10\n",
      "2021-10-08 16:20:10.958846: I tensorflow/stream_executor/platform/default/dso_loader.cc:49] Successfully opened dynamic library libcusparse.so.11\n",
      "2021-10-08 16:20:10.961509: I tensorflow/stream_executor/platform/default/dso_loader.cc:49] Successfully opened dynamic library libcudnn.so.8\n",
      "2021-10-08 16:20:10.961726: I tensorflow/stream_executor/cuda/cuda_gpu_executor.cc:941] successful NUMA node read from SysFS had negative value (-1), but there must be at least one NUMA node, so returning NUMA node zero\n",
      "2021-10-08 16:20:10.962414: I tensorflow/stream_executor/cuda/cuda_gpu_executor.cc:941] successful NUMA node read from SysFS had negative value (-1), but there must be at least one NUMA node, so returning NUMA node zero\n",
      "2021-10-08 16:20:10.965821: I tensorflow/core/common_runtime/gpu/gpu_device.cc:1862] Adding visible gpu devices: 0\n",
      "2021-10-08 16:20:10.970229: I tensorflow/core/platform/cpu_feature_guard.cc:142] This TensorFlow binary is optimized with oneAPI Deep Neural Network Library (oneDNN) to use the following CPU instructions in performance-critical operations:  AVX2 AVX512F FMA\n",
      "To enable them in other operations, rebuild TensorFlow with the appropriate compiler flags.\n",
      "2021-10-08 16:20:10.971357: I tensorflow/compiler/jit/xla_gpu_device.cc:99] Not creating XLA devices, tf_xla_enable_xla_devices not set\n",
      "2021-10-08 16:20:10.971548: I tensorflow/stream_executor/cuda/cuda_gpu_executor.cc:941] successful NUMA node read from SysFS had negative value (-1), but there must be at least one NUMA node, so returning NUMA node zero\n",
      "2021-10-08 16:20:10.972543: I tensorflow/core/common_runtime/gpu/gpu_device.cc:1720] Found device 0 with properties: \n",
      "pciBusID: 0000:00:04.0 name: Tesla P100-PCIE-16GB computeCapability: 6.0\n",
      "coreClock: 1.3285GHz coreCount: 56 deviceMemorySize: 15.90GiB deviceMemoryBandwidth: 681.88GiB/s\n",
      "2021-10-08 16:20:10.972609: I tensorflow/stream_executor/platform/default/dso_loader.cc:49] Successfully opened dynamic library libcudart.so.11.0\n",
      "2021-10-08 16:20:10.972635: I tensorflow/stream_executor/platform/default/dso_loader.cc:49] Successfully opened dynamic library libcublas.so.11\n",
      "2021-10-08 16:20:10.972690: I tensorflow/stream_executor/platform/default/dso_loader.cc:49] Successfully opened dynamic library libcublasLt.so.11\n",
      "2021-10-08 16:20:10.972712: I tensorflow/stream_executor/platform/default/dso_loader.cc:49] Successfully opened dynamic library libcufft.so.10\n",
      "2021-10-08 16:20:10.972730: I tensorflow/stream_executor/platform/default/dso_loader.cc:49] Successfully opened dynamic library libcurand.so.10\n",
      "2021-10-08 16:20:10.972749: I tensorflow/stream_executor/platform/default/dso_loader.cc:49] Successfully opened dynamic library libcusolver.so.10\n",
      "2021-10-08 16:20:10.972766: I tensorflow/stream_executor/platform/default/dso_loader.cc:49] Successfully opened dynamic library libcusparse.so.11\n",
      "2021-10-08 16:20:10.972785: I tensorflow/stream_executor/platform/default/dso_loader.cc:49] Successfully opened dynamic library libcudnn.so.8\n",
      "2021-10-08 16:20:10.972880: I tensorflow/stream_executor/cuda/cuda_gpu_executor.cc:941] successful NUMA node read from SysFS had negative value (-1), but there must be at least one NUMA node, so returning NUMA node zero\n",
      "2021-10-08 16:20:10.973502: I tensorflow/stream_executor/cuda/cuda_gpu_executor.cc:941] successful NUMA node read from SysFS had negative value (-1), but there must be at least one NUMA node, so returning NUMA node zero\n",
      "2021-10-08 16:20:10.974244: I tensorflow/core/common_runtime/gpu/gpu_device.cc:1862] Adding visible gpu devices: 0\n",
      "2021-10-08 16:20:10.975357: I tensorflow/stream_executor/platform/default/dso_loader.cc:49] Successfully opened dynamic library libcudart.so.11.0\n",
      "2021-10-08 16:20:12.422101: I tensorflow/core/common_runtime/gpu/gpu_device.cc:1261] Device interconnect StreamExecutor with strength 1 edge matrix:\n",
      "2021-10-08 16:20:12.422155: I tensorflow/core/common_runtime/gpu/gpu_device.cc:1267]      0 \n",
      "2021-10-08 16:20:12.422166: I tensorflow/core/common_runtime/gpu/gpu_device.cc:1280] 0:   N \n",
      "2021-10-08 16:20:12.424198: I tensorflow/stream_executor/cuda/cuda_gpu_executor.cc:941] successful NUMA node read from SysFS had negative value (-1), but there must be at least one NUMA node, so returning NUMA node zero\n",
      "2021-10-08 16:20:12.425145: I tensorflow/stream_executor/cuda/cuda_gpu_executor.cc:941] successful NUMA node read from SysFS had negative value (-1), but there must be at least one NUMA node, so returning NUMA node zero\n",
      "2021-10-08 16:20:12.425804: I tensorflow/stream_executor/cuda/cuda_gpu_executor.cc:941] successful NUMA node read from SysFS had negative value (-1), but there must be at least one NUMA node, so returning NUMA node zero\n",
      "2021-10-08 16:20:12.426365: I tensorflow/core/common_runtime/gpu/gpu_device.cc:1406] Created TensorFlow device (/job:localhost/replica:0/task:0/device:GPU:0 with 14957 MB memory) -> physical GPU (device: 0, name: Tesla P100-PCIE-16GB, pci bus id: 0000:00:04.0, compute capability: 6.0)\n"
     ]
    }
   ],
   "source": [
    "X_train = tf.expand_dims(X_train, axis=-1)\n",
    "X_valid = tf.expand_dims(X_valid, axis=-1)"
   ]
  },
  {
   "cell_type": "code",
   "execution_count": 13,
   "id": "18502fb4",
   "metadata": {
    "execution": {
     "iopub.execute_input": "2021-10-08T16:20:12.806372Z",
     "iopub.status.busy": "2021-10-08T16:20:12.805497Z",
     "iopub.status.idle": "2021-10-08T16:20:12.809621Z",
     "shell.execute_reply": "2021-10-08T16:20:12.809188Z",
     "shell.execute_reply.started": "2021-10-08T15:45:36.652916Z"
    },
    "papermill": {
     "duration": 0.03976,
     "end_time": "2021-10-08T16:20:12.809765",
     "exception": false,
     "start_time": "2021-10-08T16:20:12.770005",
     "status": "completed"
    },
    "tags": []
   },
   "outputs": [
    {
     "data": {
      "text/plain": [
       "TensorShape([12956, 32, 32, 1])"
      ]
     },
     "execution_count": 13,
     "metadata": {},
     "output_type": "execute_result"
    }
   ],
   "source": [
    "X_train.shape"
   ]
  },
  {
   "cell_type": "markdown",
   "id": "73eedbf0",
   "metadata": {
    "papermill": {
     "duration": 0.030957,
     "end_time": "2021-10-08T16:20:12.872119",
     "exception": false,
     "start_time": "2021-10-08T16:20:12.841162",
     "status": "completed"
    },
    "tags": []
   },
   "source": [
    "## One-hot encode labels"
   ]
  },
  {
   "cell_type": "code",
   "execution_count": 14,
   "id": "99d591e7",
   "metadata": {
    "execution": {
     "iopub.execute_input": "2021-10-08T16:20:12.938094Z",
     "iopub.status.busy": "2021-10-08T16:20:12.937520Z",
     "iopub.status.idle": "2021-10-08T16:20:12.941343Z",
     "shell.execute_reply": "2021-10-08T16:20:12.941728Z",
     "shell.execute_reply.started": "2021-10-08T15:45:36.662481Z"
    },
    "papermill": {
     "duration": 0.039095,
     "end_time": "2021-10-08T16:20:12.941868",
     "exception": false,
     "start_time": "2021-10-08T16:20:12.902773",
     "status": "completed"
    },
    "tags": []
   },
   "outputs": [],
   "source": [
    "y_train = to_categorical(y_train)\n",
    "y_valid = to_categorical(y_valid)"
   ]
  },
  {
   "cell_type": "markdown",
   "id": "e0b15706",
   "metadata": {
    "papermill": {
     "duration": 0.031253,
     "end_time": "2021-10-08T16:20:13.003786",
     "exception": false,
     "start_time": "2021-10-08T16:20:12.972533",
     "status": "completed"
    },
    "tags": []
   },
   "source": [
    "# Tensorflow Models"
   ]
  },
  {
   "cell_type": "markdown",
   "id": "8ac607aa",
   "metadata": {
    "papermill": {
     "duration": 0.030241,
     "end_time": "2021-10-08T16:20:13.065281",
     "exception": false,
     "start_time": "2021-10-08T16:20:13.035040",
     "status": "completed"
    },
    "tags": []
   },
   "source": [
    "## Model 1\n",
    "- from:  https://www.kaggle.com/ohbewise/dataset-to-model-with-tensorflow\n",
    "- Keras code from here: https://keras.io/examples/vision/3D_image_classification/"
   ]
  },
  {
   "cell_type": "markdown",
   "id": "87ad93ea",
   "metadata": {
    "papermill": {
     "duration": 0.030402,
     "end_time": "2021-10-08T16:20:13.126175",
     "exception": false,
     "start_time": "2021-10-08T16:20:13.095773",
     "status": "completed"
    },
    "tags": []
   },
   "source": [
    "## Define a 3D convolutional neural network"
   ]
  },
  {
   "cell_type": "code",
   "execution_count": 15,
   "id": "eaa3a05f",
   "metadata": {
    "execution": {
     "iopub.execute_input": "2021-10-08T16:20:13.200875Z",
     "iopub.status.busy": "2021-10-08T16:20:13.199230Z",
     "iopub.status.idle": "2021-10-08T16:20:13.201472Z",
     "shell.execute_reply": "2021-10-08T16:20:13.201895Z",
     "shell.execute_reply.started": "2021-10-08T15:45:36.670422Z"
    },
    "papermill": {
     "duration": 0.045629,
     "end_time": "2021-10-08T16:20:13.202029",
     "exception": false,
     "start_time": "2021-10-08T16:20:13.156400",
     "status": "completed"
    },
    "tags": []
   },
   "outputs": [],
   "source": [
    "# Define, train, and evaluate model\n",
    "# source: https://keras.io/examples/vision/3D_image_classification/\n",
    "def get_model01(width=128, height=128, depth=64, name='3dcnn'):\n",
    "    \"\"\"Build a 3D convolutional neural network model.\"\"\"\n",
    "\n",
    "    inputs = tf.keras.Input((width, height, depth, 1))\n",
    "\n",
    "    x = tf.keras.layers.Conv3D(filters=64, kernel_size=3, activation=\"relu\")(inputs)\n",
    "    x = tf.keras.layers.MaxPool3D(pool_size=2)(x)\n",
    "    x = tf.keras.layers.BatchNormalization()(x)\n",
    "\n",
    "    x = tf.keras.layers.Conv3D(filters=64, kernel_size=3, activation=\"relu\")(x)\n",
    "    x = tf.keras.layers.MaxPool3D(pool_size=2)(x)\n",
    "    x = tf.keras.layers.BatchNormalization()(x)\n",
    "\n",
    "    x = tf.keras.layers.Conv3D(filters=128, kernel_size=3, activation=\"relu\")(x)\n",
    "    x = tf.keras.layers.MaxPool3D(pool_size=2)(x)\n",
    "    x = tf.keras.layers.BatchNormalization()(x)\n",
    "\n",
    "    x = tf.keras.layers.Conv3D(filters=256, kernel_size=3, activation=\"relu\")(x)\n",
    "    x = tf.keras.layers.MaxPool3D(pool_size=2)(x)\n",
    "    x = tf.keras.layers.BatchNormalization()(x)\n",
    "\n",
    "    x = tf.keras.layers.GlobalAveragePooling3D()(x)\n",
    "    x = tf.keras.layers.Dense(units=512, activation=\"relu\")(x)\n",
    "    x = tf.keras.layers.Dropout(0.3)(x)\n",
    "\n",
    "    outputs = tf.keras.layers.Dense(units=1, activation=\"sigmoid\")(x)\n",
    "\n",
    "    # Define the model.\n",
    "    model = tf.keras.Model(inputs, outputs, name=name)\n",
    "    \n",
    "    # Compile model.\n",
    "    initial_learning_rate = 0.0001\n",
    "    lr_schedule = tf.keras.optimizers.schedules.ExponentialDecay(\n",
    "        initial_learning_rate, decay_steps=100000, decay_rate=0.96, staircase=True\n",
    "    )\n",
    "    model.compile(\n",
    "        loss=\"binary_crossentropy\",\n",
    "        optimizer=tf.keras.optimizers.Adam(learning_rate=lr_schedule),\n",
    "        metrics=[\"acc\"],\n",
    "    )\n",
    "    \n",
    "    return model\n",
    "\n"
   ]
  },
  {
   "cell_type": "markdown",
   "id": "bdadcaae",
   "metadata": {
    "papermill": {
     "duration": 0.030167,
     "end_time": "2021-10-08T16:20:13.262511",
     "exception": false,
     "start_time": "2021-10-08T16:20:13.232344",
     "status": "completed"
    },
    "tags": []
   },
   "source": [
    "## Model 2\n",
    "\n",
    "- from: https://www.kaggle.com/evanyao27/team-9-second-week/notebook\n",
    "- Validation AUC=0.9148664856146349"
   ]
  },
  {
   "cell_type": "code",
   "execution_count": 16,
   "id": "dd915948",
   "metadata": {
    "execution": {
     "iopub.execute_input": "2021-10-08T16:20:13.332438Z",
     "iopub.status.busy": "2021-10-08T16:20:13.331813Z",
     "iopub.status.idle": "2021-10-08T16:20:13.334802Z",
     "shell.execute_reply": "2021-10-08T16:20:13.334385Z",
     "shell.execute_reply.started": "2021-10-08T15:45:36.686276Z"
    },
    "papermill": {
     "duration": 0.041997,
     "end_time": "2021-10-08T16:20:13.334917",
     "exception": false,
     "start_time": "2021-10-08T16:20:13.292920",
     "status": "completed"
    },
    "tags": []
   },
   "outputs": [],
   "source": [
    "def get_model02():\n",
    "    np.random.seed(0)\n",
    "    random.seed(12)\n",
    "    tf.random.set_seed(12)\n",
    "\n",
    "    inpt = keras.Input(shape=X_train.shape[1:])\n",
    "\n",
    "    h = keras.layers.experimental.preprocessing.Rescaling(1.0 / 255)(inpt)\n",
    "\n",
    "    h = keras.layers.Conv2D(64, kernel_size=(4, 4), activation=\"relu\", name=\"Conv_1\")(h)\n",
    "    h = keras.layers.MaxPool2D(pool_size=(2, 2))(h)\n",
    "\n",
    "    h = keras.layers.Conv2D(32, kernel_size=(2, 2), activation=\"relu\", name=\"Conv_2\")(h)\n",
    "    h = keras.layers.MaxPool2D(pool_size=(1, 1))(h)\n",
    "\n",
    "    h = keras.layers.Dropout(0.1)(h)\n",
    "\n",
    "    h = keras.layers.Flatten()(h)\n",
    "    h = keras.layers.Dense(32, activation=\"relu\")(h)\n",
    "\n",
    "    output = keras.layers.Dense(2, activation=\"softmax\")(h)\n",
    "\n",
    "    model = keras.Model(inpt, output)\n",
    "\n",
    "    roc_auc = tf.keras.metrics.AUC(name='roc_auc', curve='ROC')\n",
    "\n",
    "    model.compile(\n",
    "        loss=\"categorical_crossentropy\", optimizer=\"adam\", metrics=[roc_auc]\n",
    "    )\n",
    "    return model"
   ]
  },
  {
   "cell_type": "markdown",
   "id": "ec88db72",
   "metadata": {
    "papermill": {
     "duration": 0.030241,
     "end_time": "2021-10-08T16:20:13.395739",
     "exception": false,
     "start_time": "2021-10-08T16:20:13.365498",
     "status": "completed"
    },
    "tags": []
   },
   "source": [
    "## Model 3\n",
    "\n",
    "Adding LR scheduler, early stopping, etc"
   ]
  },
  {
   "cell_type": "code",
   "execution_count": 17,
   "id": "c4a31e66",
   "metadata": {
    "execution": {
     "iopub.execute_input": "2021-10-08T16:20:13.469433Z",
     "iopub.status.busy": "2021-10-08T16:20:13.467811Z",
     "iopub.status.idle": "2021-10-08T16:20:13.470027Z",
     "shell.execute_reply": "2021-10-08T16:20:13.470415Z",
     "shell.execute_reply.started": "2021-10-08T15:45:36.700281Z"
    },
    "papermill": {
     "duration": 0.04369,
     "end_time": "2021-10-08T16:20:13.470544",
     "exception": false,
     "start_time": "2021-10-08T16:20:13.426854",
     "status": "completed"
    },
    "tags": []
   },
   "outputs": [],
   "source": [
    "def get_model03():\n",
    "    np.random.seed(0)\n",
    "    random.seed(12)\n",
    "    tf.random.set_seed(12)\n",
    "\n",
    "    inpt = keras.Input(shape=X_train.shape[1:])\n",
    "\n",
    "    h = keras.layers.experimental.preprocessing.Rescaling(1.0 / 255)(inpt)\n",
    "\n",
    "    h = keras.layers.Conv2D(64, kernel_size=(4, 4), activation=\"relu\", name=\"Conv_1\")(h)\n",
    "    h = keras.layers.MaxPool2D(pool_size=(2, 2))(h)\n",
    "\n",
    "    h = keras.layers.Conv2D(32, kernel_size=(2, 2), activation=\"relu\", name=\"Conv_2\")(h)\n",
    "    h = keras.layers.MaxPool2D(pool_size=(1, 1))(h)\n",
    "\n",
    "    h = keras.layers.Dropout(0.1)(h)\n",
    "\n",
    "    h = keras.layers.Flatten()(h)\n",
    "    h = keras.layers.Dense(32, activation=\"relu\")(h)\n",
    "\n",
    "    output = keras.layers.Dense(2, activation=\"softmax\")(h)\n",
    "\n",
    "    model = keras.Model(inpt, output)\n",
    "\n",
    "    # https://www.tensorflow.org/api_docs/python/tf/keras/optimizers/schedules/ExponentialDecay\n",
    "    \n",
    "    initial_learning_rate =  0.0001\n",
    "    lr_schedule = tf.keras.optimizers.schedules.ExponentialDecay(\n",
    "        initial_learning_rate,\n",
    "        decay_steps=100000,\n",
    "        decay_rate=0.96, \n",
    "        staircase=True\n",
    "    )\n",
    "  \n",
    "    roc_auc = tf.keras.metrics.AUC(name='roc_auc', curve='ROC')\n",
    "\n",
    "    model.compile(\n",
    "        loss=\"categorical_crossentropy\", \n",
    "#         loss=\"binary_crossentropy\", \n",
    "        \n",
    "#         optimizer=keras.optimizers.Adam(learning_rate=lr_schedule),\n",
    "        optimizer=keras.optimizers.Adam(),\n",
    "\n",
    "        metrics=[roc_auc],\n",
    "    )\n",
    "    return model"
   ]
  },
  {
   "cell_type": "markdown",
   "id": "98d4daca",
   "metadata": {
    "papermill": {
     "duration": 0.030472,
     "end_time": "2021-10-08T16:20:13.532157",
     "exception": false,
     "start_time": "2021-10-08T16:20:13.501685",
     "status": "completed"
    },
    "tags": []
   },
   "source": [
    "## Model 4"
   ]
  },
  {
   "cell_type": "code",
   "execution_count": 18,
   "id": "28278391",
   "metadata": {
    "execution": {
     "iopub.execute_input": "2021-10-08T16:20:13.601974Z",
     "iopub.status.busy": "2021-10-08T16:20:13.601095Z",
     "iopub.status.idle": "2021-10-08T16:20:13.603540Z",
     "shell.execute_reply": "2021-10-08T16:20:13.603126Z",
     "shell.execute_reply.started": "2021-10-08T16:15:46.820748Z"
    },
    "papermill": {
     "duration": 0.041239,
     "end_time": "2021-10-08T16:20:13.603661",
     "exception": false,
     "start_time": "2021-10-08T16:20:13.562422",
     "status": "completed"
    },
    "tags": []
   },
   "outputs": [],
   "source": [
    "def get_model04():\n",
    "    np.random.seed(0)\n",
    "    random.seed(12)\n",
    "    tf.random.set_seed(12)\n",
    "\n",
    "    inpt = keras.Input(shape=X_train.shape[1:])\n",
    "\n",
    "    h = keras.layers.experimental.preprocessing.Rescaling(1.0 / 255)(inpt)\n",
    "\n",
    "    h = keras.layers.Conv2D(64, kernel_size=(20, 20), activation=\"relu\", name=\"Conv_1\")(h)\n",
    "    h = keras.layers.MaxPool2D(pool_size=(8, 8))(h)\n",
    "\n",
    "    #h = keras.layers.Conv2D(32, kernel_size=(2, 2), activation=\"relu\", name=\"Conv_2\")(h)\n",
    "    #h = keras.layers.MaxPool2D(pool_size=(1, 1))(h)\n",
    "\n",
    "    h = keras.layers.Dropout(0.1)(h)\n",
    "\n",
    "    h = keras.layers.Flatten()(h)\n",
    "    h = keras.layers.Dense(32, activation=\"relu\")(h)\n",
    "\n",
    "    output = keras.layers.Dense(2, activation=\"softmax\")(h)\n",
    "\n",
    "    model = keras.Model(inpt, output)\n",
    "\n",
    "    roc_auc = tf.keras.metrics.AUC(name='roc_auc', curve='ROC')\n",
    "\n",
    "    model.compile(\n",
    "        loss=\"categorical_crossentropy\", optimizer=\"adam\", metrics=[roc_auc]\n",
    "    )\n",
    "    return model"
   ]
  },
  {
   "cell_type": "markdown",
   "id": "ee7f3146",
   "metadata": {
    "papermill": {
     "duration": 0.0302,
     "end_time": "2021-10-08T16:20:13.664497",
     "exception": false,
     "start_time": "2021-10-08T16:20:13.634297",
     "status": "completed"
    },
    "tags": []
   },
   "source": [
    "## Model 5"
   ]
  },
  {
   "cell_type": "code",
   "execution_count": null,
   "id": "78a7f7f5",
   "metadata": {
    "papermill": {
     "duration": 0.030238,
     "end_time": "2021-10-08T16:20:13.725411",
     "exception": false,
     "start_time": "2021-10-08T16:20:13.695173",
     "status": "completed"
    },
    "tags": []
   },
   "outputs": [],
   "source": []
  },
  {
   "cell_type": "markdown",
   "id": "254830a3",
   "metadata": {
    "papermill": {
     "duration": 0.030121,
     "end_time": "2021-10-08T16:20:13.786432",
     "exception": false,
     "start_time": "2021-10-08T16:20:13.756311",
     "status": "completed"
    },
    "tags": []
   },
   "source": [
    "## Set up Model Checkpoint"
   ]
  },
  {
   "cell_type": "code",
   "execution_count": 19,
   "id": "951bf3f8",
   "metadata": {
    "execution": {
     "iopub.execute_input": "2021-10-08T16:20:13.852875Z",
     "iopub.status.busy": "2021-10-08T16:20:13.852055Z",
     "iopub.status.idle": "2021-10-08T16:20:13.854514Z",
     "shell.execute_reply": "2021-10-08T16:20:13.854122Z",
     "shell.execute_reply.started": "2021-10-08T15:45:36.716929Z"
    },
    "papermill": {
     "duration": 0.037832,
     "end_time": "2021-10-08T16:20:13.854623",
     "exception": false,
     "start_time": "2021-10-08T16:20:13.816791",
     "status": "completed"
    },
    "tags": []
   },
   "outputs": [],
   "source": [
    "checkpoint_filepath = \"best_model.h5\"\n",
    "\n",
    "model_checkpoint_cb = tf.keras.callbacks.ModelCheckpoint(\n",
    "    filepath=checkpoint_filepath,\n",
    "    save_weights_only=False,\n",
    "    monitor=\"val_roc_auc\",\n",
    "    mode=\"max\",\n",
    "    save_best_only=True,\n",
    "    save_freq=\"epoch\",\n",
    "    verbose=1,\n",
    ")"
   ]
  },
  {
   "cell_type": "markdown",
   "id": "3b964557",
   "metadata": {
    "papermill": {
     "duration": 0.030013,
     "end_time": "2021-10-08T16:20:13.914990",
     "exception": false,
     "start_time": "2021-10-08T16:20:13.884977",
     "status": "completed"
    },
    "tags": []
   },
   "source": [
    "## Early Stopping Callback\n",
    "\n",
    "- https://www.tensorflow.org/api_docs/python/tf/keras/callbacks/EarlyStopping"
   ]
  },
  {
   "cell_type": "code",
   "execution_count": 20,
   "id": "2b23a061",
   "metadata": {
    "execution": {
     "iopub.execute_input": "2021-10-08T16:20:13.989211Z",
     "iopub.status.busy": "2021-10-08T16:20:13.988244Z",
     "iopub.status.idle": "2021-10-08T16:20:13.990140Z",
     "shell.execute_reply": "2021-10-08T16:20:13.990562Z",
     "shell.execute_reply.started": "2021-10-08T15:45:36.728273Z"
    },
    "papermill": {
     "duration": 0.045272,
     "end_time": "2021-10-08T16:20:13.990732",
     "exception": false,
     "start_time": "2021-10-08T16:20:13.945460",
     "status": "completed"
    },
    "tags": []
   },
   "outputs": [],
   "source": [
    "# early_stopping_cb = tf.keras.callbacks.EarlyStopping(monitor=tf.keras.metrics.AUC(), mode='auto', verbose=1, patience=5)\n",
    "# early_stopping_cb = tf.keras.callbacks.EarlyStopping(monitor=\"val_acc\", patience=15)\n",
    "early_stopping_cb = tf.keras.callbacks.EarlyStopping(monitor=\"val_roc_auc\", mode='max', patience=3)"
   ]
  },
  {
   "cell_type": "markdown",
   "id": "7ca78af7",
   "metadata": {
    "papermill": {
     "duration": 0.030864,
     "end_time": "2021-10-08T16:20:14.053138",
     "exception": false,
     "start_time": "2021-10-08T16:20:14.022274",
     "status": "completed"
    },
    "tags": []
   },
   "source": [
    "### Note that rerunning the cell below will change val_acc to val_acc_N and the model will not be saved.\n",
    "\n",
    "Force name:  https://www.kaggle.com/c/rsna-miccai-brain-tumor-radiogenomic-classification/discussion/276230\n",
    "\n",
    "    roc_auc = tf.keras.metrics.AUC(name='roc_auc', curve='ROC')\n",
    "    model.compile(optimizer=..., loss=..., metrics=[roc_auc, ...])\n"
   ]
  },
  {
   "cell_type": "code",
   "execution_count": 21,
   "id": "37e2240e",
   "metadata": {
    "execution": {
     "iopub.execute_input": "2021-10-08T16:20:14.118828Z",
     "iopub.status.busy": "2021-10-08T16:20:14.118234Z",
     "iopub.status.idle": "2021-10-08T16:20:14.214539Z",
     "shell.execute_reply": "2021-10-08T16:20:14.215299Z",
     "shell.execute_reply.started": "2021-10-08T16:16:01.965199Z"
    },
    "papermill": {
     "duration": 0.131641,
     "end_time": "2021-10-08T16:20:14.215491",
     "exception": false,
     "start_time": "2021-10-08T16:20:14.083850",
     "status": "completed"
    },
    "tags": []
   },
   "outputs": [
    {
     "name": "stdout",
     "output_type": "stream",
     "text": [
      "Model: \"model\"\n",
      "_________________________________________________________________\n",
      "Layer (type)                 Output Shape              Param #   \n",
      "=================================================================\n",
      "input_1 (InputLayer)         [(None, 32, 32, 1)]       0         \n",
      "_________________________________________________________________\n",
      "rescaling (Rescaling)        (None, 32, 32, 1)         0         \n",
      "_________________________________________________________________\n",
      "Conv_1 (Conv2D)              (None, 13, 13, 64)        25664     \n",
      "_________________________________________________________________\n",
      "max_pooling2d (MaxPooling2D) (None, 1, 1, 64)          0         \n",
      "_________________________________________________________________\n",
      "dropout (Dropout)            (None, 1, 1, 64)          0         \n",
      "_________________________________________________________________\n",
      "flatten (Flatten)            (None, 64)                0         \n",
      "_________________________________________________________________\n",
      "dense (Dense)                (None, 32)                2080      \n",
      "_________________________________________________________________\n",
      "dense_1 (Dense)              (None, 2)                 66        \n",
      "=================================================================\n",
      "Total params: 27,810\n",
      "Trainable params: 27,810\n",
      "Non-trainable params: 0\n",
      "_________________________________________________________________\n"
     ]
    }
   ],
   "source": [
    "model = get_model04() # LB score 0.676\n",
    "#model = get_model03() # LB score 0.5\n",
    "model.summary()\n",
    "\n",
    "#enable voting of the 3 models:\n"
   ]
  },
  {
   "cell_type": "code",
   "execution_count": 22,
   "id": "a6c3580d",
   "metadata": {
    "execution": {
     "iopub.execute_input": "2021-10-08T16:20:14.282161Z",
     "iopub.status.busy": "2021-10-08T16:20:14.281581Z",
     "iopub.status.idle": "2021-10-08T16:21:01.365622Z",
     "shell.execute_reply": "2021-10-08T16:21:01.366305Z",
     "shell.execute_reply.started": "2021-10-08T16:16:06.882043Z"
    },
    "papermill": {
     "duration": 47.120039,
     "end_time": "2021-10-08T16:21:01.366492",
     "exception": false,
     "start_time": "2021-10-08T16:20:14.246453",
     "status": "completed"
    },
    "tags": []
   },
   "outputs": [
    {
     "name": "stderr",
     "output_type": "stream",
     "text": [
      "2021-10-08 16:20:14.496538: I tensorflow/compiler/mlir/mlir_graph_optimization_pass.cc:116] None of the MLIR optimization passes are enabled (registered 2)\n",
      "2021-10-08 16:20:14.507534: I tensorflow/core/platform/profile_utils/cpu_utils.cc:112] CPU Frequency: 2000160000 Hz\n"
     ]
    },
    {
     "name": "stdout",
     "output_type": "stream",
     "text": [
      "Epoch 1/40\n"
     ]
    },
    {
     "name": "stderr",
     "output_type": "stream",
     "text": [
      "2021-10-08 16:20:15.142254: I tensorflow/stream_executor/platform/default/dso_loader.cc:49] Successfully opened dynamic library libcublas.so.11\n",
      "2021-10-08 16:20:15.982342: I tensorflow/stream_executor/platform/default/dso_loader.cc:49] Successfully opened dynamic library libcublasLt.so.11\n",
      "2021-10-08 16:20:16.006680: I tensorflow/stream_executor/platform/default/dso_loader.cc:49] Successfully opened dynamic library libcudnn.so.8\n"
     ]
    },
    {
     "name": "stdout",
     "output_type": "stream",
     "text": [
      "405/405 [==============================] - 9s 5ms/step - loss: 0.6883 - roc_auc: 0.5673 - val_loss: 0.6813 - val_roc_auc: 0.5917\n",
      "\n",
      "Epoch 00001: val_roc_auc improved from -inf to 0.59173, saving model to best_model.h5\n",
      "Epoch 2/40\n",
      "405/405 [==============================] - 2s 4ms/step - loss: 0.6817 - roc_auc: 0.5906 - val_loss: 0.6829 - val_roc_auc: 0.5855\n",
      "\n",
      "Epoch 00002: val_roc_auc did not improve from 0.59173\n",
      "Epoch 3/40\n",
      "405/405 [==============================] - 2s 4ms/step - loss: 0.6791 - roc_auc: 0.5961 - val_loss: 0.6703 - val_roc_auc: 0.6193\n",
      "\n",
      "Epoch 00003: val_roc_auc improved from 0.59173 to 0.61926, saving model to best_model.h5\n",
      "Epoch 4/40\n",
      "405/405 [==============================] - 2s 4ms/step - loss: 0.6705 - roc_auc: 0.6181 - val_loss: 0.6677 - val_roc_auc: 0.6215\n",
      "\n",
      "Epoch 00004: val_roc_auc improved from 0.61926 to 0.62150, saving model to best_model.h5\n",
      "Epoch 5/40\n",
      "405/405 [==============================] - 2s 4ms/step - loss: 0.6710 - roc_auc: 0.6178 - val_loss: 0.6646 - val_roc_auc: 0.6294\n",
      "\n",
      "Epoch 00005: val_roc_auc improved from 0.62150 to 0.62943, saving model to best_model.h5\n",
      "Epoch 6/40\n",
      "405/405 [==============================] - 2s 5ms/step - loss: 0.6623 - roc_auc: 0.6347 - val_loss: 0.6665 - val_roc_auc: 0.6255\n",
      "\n",
      "Epoch 00006: val_roc_auc did not improve from 0.62943\n",
      "Epoch 7/40\n",
      "405/405 [==============================] - 2s 4ms/step - loss: 0.6587 - roc_auc: 0.6440 - val_loss: 0.6592 - val_roc_auc: 0.6420\n",
      "\n",
      "Epoch 00007: val_roc_auc improved from 0.62943 to 0.64202, saving model to best_model.h5\n",
      "Epoch 8/40\n",
      "405/405 [==============================] - 2s 4ms/step - loss: 0.6429 - roc_auc: 0.6736 - val_loss: 0.6595 - val_roc_auc: 0.6435\n",
      "\n",
      "Epoch 00008: val_roc_auc improved from 0.64202 to 0.64346, saving model to best_model.h5\n",
      "Epoch 9/40\n",
      "405/405 [==============================] - 2s 4ms/step - loss: 0.6417 - roc_auc: 0.6730 - val_loss: 0.6453 - val_roc_auc: 0.6677\n",
      "\n",
      "Epoch 00009: val_roc_auc improved from 0.64346 to 0.66773, saving model to best_model.h5\n",
      "Epoch 10/40\n",
      "405/405 [==============================] - 2s 4ms/step - loss: 0.6310 - roc_auc: 0.6912 - val_loss: 0.6675 - val_roc_auc: 0.6316\n",
      "\n",
      "Epoch 00010: val_roc_auc did not improve from 0.66773\n",
      "Epoch 11/40\n",
      "405/405 [==============================] - 2s 4ms/step - loss: 0.6206 - roc_auc: 0.7073 - val_loss: 0.6545 - val_roc_auc: 0.6573\n",
      "\n",
      "Epoch 00011: val_roc_auc did not improve from 0.66773\n",
      "Epoch 12/40\n",
      "405/405 [==============================] - 2s 4ms/step - loss: 0.6073 - roc_auc: 0.7307 - val_loss: 0.6437 - val_roc_auc: 0.6755\n",
      "\n",
      "Epoch 00012: val_roc_auc improved from 0.66773 to 0.67547, saving model to best_model.h5\n",
      "Epoch 13/40\n",
      "405/405 [==============================] - 2s 5ms/step - loss: 0.5998 - roc_auc: 0.7312 - val_loss: 0.6197 - val_roc_auc: 0.7125\n",
      "\n",
      "Epoch 00013: val_roc_auc improved from 0.67547 to 0.71252, saving model to best_model.h5\n",
      "Epoch 14/40\n",
      "405/405 [==============================] - 2s 4ms/step - loss: 0.5825 - roc_auc: 0.7553 - val_loss: 0.6139 - val_roc_auc: 0.7153\n",
      "\n",
      "Epoch 00014: val_roc_auc improved from 0.71252 to 0.71531, saving model to best_model.h5\n",
      "Epoch 15/40\n",
      "405/405 [==============================] - 2s 4ms/step - loss: 0.5688 - roc_auc: 0.7691 - val_loss: 0.6278 - val_roc_auc: 0.6969\n",
      "\n",
      "Epoch 00015: val_roc_auc did not improve from 0.71531\n",
      "Epoch 16/40\n",
      "405/405 [==============================] - 2s 5ms/step - loss: 0.5701 - roc_auc: 0.7660 - val_loss: 0.6295 - val_roc_auc: 0.7038\n",
      "\n",
      "Epoch 00016: val_roc_auc did not improve from 0.71531\n",
      "Epoch 17/40\n",
      "405/405 [==============================] - 2s 4ms/step - loss: 0.5647 - roc_auc: 0.7718 - val_loss: 0.6010 - val_roc_auc: 0.7397\n",
      "\n",
      "Epoch 00017: val_roc_auc improved from 0.71531 to 0.73971, saving model to best_model.h5\n",
      "Epoch 18/40\n",
      "405/405 [==============================] - 2s 4ms/step - loss: 0.5457 - roc_auc: 0.7920 - val_loss: 0.6458 - val_roc_auc: 0.6991\n",
      "\n",
      "Epoch 00018: val_roc_auc did not improve from 0.73971\n",
      "Epoch 19/40\n",
      "405/405 [==============================] - 2s 4ms/step - loss: 0.5330 - roc_auc: 0.8037 - val_loss: 0.6196 - val_roc_auc: 0.7147\n",
      "\n",
      "Epoch 00019: val_roc_auc did not improve from 0.73971\n",
      "Epoch 20/40\n",
      "405/405 [==============================] - 2s 4ms/step - loss: 0.5176 - roc_auc: 0.8172 - val_loss: 0.5900 - val_roc_auc: 0.7473\n",
      "\n",
      "Epoch 00020: val_roc_auc improved from 0.73971 to 0.74727, saving model to best_model.h5\n",
      "Epoch 21/40\n",
      "405/405 [==============================] - 2s 4ms/step - loss: 0.5150 - roc_auc: 0.8188 - val_loss: 0.5953 - val_roc_auc: 0.7541\n",
      "\n",
      "Epoch 00021: val_roc_auc improved from 0.74727 to 0.75412, saving model to best_model.h5\n",
      "Epoch 22/40\n",
      "405/405 [==============================] - 2s 4ms/step - loss: 0.5106 - roc_auc: 0.8222 - val_loss: 0.5974 - val_roc_auc: 0.7471\n",
      "\n",
      "Epoch 00022: val_roc_auc did not improve from 0.75412\n",
      "Epoch 23/40\n",
      "405/405 [==============================] - 2s 4ms/step - loss: 0.4972 - roc_auc: 0.8317 - val_loss: 0.5952 - val_roc_auc: 0.7511\n",
      "\n",
      "Epoch 00023: val_roc_auc did not improve from 0.75412\n",
      "Epoch 24/40\n",
      "405/405 [==============================] - 2s 4ms/step - loss: 0.4801 - roc_auc: 0.8454 - val_loss: 0.6116 - val_roc_auc: 0.7463\n",
      "\n",
      "Epoch 00024: val_roc_auc did not improve from 0.75412\n"
     ]
    }
   ],
   "source": [
    "# history = model.fit(x=X_train, y = y_train, epochs=20, \n",
    "#                     callbacks=[model_checkpoint_cb], \n",
    "#                     validation_data=(X_valid, y_valid))\n",
    "\n",
    "history = model.fit(x=X_train, y = y_train, epochs=40, \n",
    "                    callbacks=[model_checkpoint_cb, early_stopping_cb],\n",
    "                    validation_data=(X_valid, y_valid))"
   ]
  },
  {
   "cell_type": "markdown",
   "id": "e9b631f2",
   "metadata": {
    "papermill": {
     "duration": 0.19631,
     "end_time": "2021-10-08T16:21:01.760455",
     "exception": false,
     "start_time": "2021-10-08T16:21:01.564145",
     "status": "completed"
    },
    "tags": []
   },
   "source": [
    "# Load Our Best Model"
   ]
  },
  {
   "cell_type": "code",
   "execution_count": 23,
   "id": "8adf3b3f",
   "metadata": {
    "execution": {
     "iopub.execute_input": "2021-10-08T16:21:02.171684Z",
     "iopub.status.busy": "2021-10-08T16:21:02.169997Z",
     "iopub.status.idle": "2021-10-08T16:21:02.236933Z",
     "shell.execute_reply": "2021-10-08T16:21:02.235979Z",
     "shell.execute_reply.started": "2021-10-08T16:17:10.524324Z"
    },
    "papermill": {
     "duration": 0.280383,
     "end_time": "2021-10-08T16:21:02.237087",
     "exception": false,
     "start_time": "2021-10-08T16:21:01.956704",
     "status": "completed"
    },
    "tags": []
   },
   "outputs": [],
   "source": [
    "model_best = tf.keras.models.load_model(filepath=checkpoint_filepath)"
   ]
  },
  {
   "cell_type": "markdown",
   "id": "d8b1b2c3",
   "metadata": {
    "papermill": {
     "duration": 0.199013,
     "end_time": "2021-10-08T16:21:02.630098",
     "exception": false,
     "start_time": "2021-10-08T16:21:02.431085",
     "status": "completed"
    },
    "tags": []
   },
   "source": [
    "# Predictions on Validation Set"
   ]
  },
  {
   "cell_type": "code",
   "execution_count": 24,
   "id": "93f17481",
   "metadata": {
    "execution": {
     "iopub.execute_input": "2021-10-08T16:21:03.039727Z",
     "iopub.status.busy": "2021-10-08T16:21:03.038904Z",
     "iopub.status.idle": "2021-10-08T16:21:03.240883Z",
     "shell.execute_reply": "2021-10-08T16:21:03.240449Z",
     "shell.execute_reply.started": "2021-10-08T16:17:13.038240Z"
    },
    "papermill": {
     "duration": 0.408625,
     "end_time": "2021-10-08T16:21:03.241005",
     "exception": false,
     "start_time": "2021-10-08T16:21:02.832380",
     "status": "completed"
    },
    "tags": []
   },
   "outputs": [
    {
     "name": "stdout",
     "output_type": "stream",
     "text": [
      "Validation AUC=0.759942927252926\n"
     ]
    }
   ],
   "source": [
    "y_pred = model_best.predict(X_valid)\n",
    "\n",
    "pred = np.argmax(y_pred, axis=1)\n",
    "\n",
    "result = pd.DataFrame(trainidt_valid)\n",
    "result[1] = pred\n",
    "\n",
    "result.columns = [\"BraTS21ID\", \"MGMT_value\"]\n",
    "result2 = result.groupby(\"BraTS21ID\", as_index=False).mean()\n",
    "\n",
    "result2 = result2.merge(train_df, on=\"BraTS21ID\")\n",
    "auc = roc_auc_score(\n",
    "    result2.MGMT_value_y,\n",
    "    result2.MGMT_value_x,\n",
    ")\n",
    "print(f\"Validation AUC={auc}\")"
   ]
  },
  {
   "cell_type": "markdown",
   "id": "45c5fe01",
   "metadata": {
    "papermill": {
     "duration": 0.196498,
     "end_time": "2021-10-08T16:21:03.631993",
     "exception": false,
     "start_time": "2021-10-08T16:21:03.435495",
     "status": "completed"
    },
    "tags": []
   },
   "source": [
    "# Predictions on the Test Set"
   ]
  },
  {
   "cell_type": "code",
   "execution_count": 25,
   "id": "5fbe535f",
   "metadata": {
    "execution": {
     "iopub.execute_input": "2021-10-08T16:21:04.082070Z",
     "iopub.status.busy": "2021-10-08T16:21:04.081124Z",
     "iopub.status.idle": "2021-10-08T16:21:04.348396Z",
     "shell.execute_reply": "2021-10-08T16:21:04.349416Z",
     "shell.execute_reply.started": "2021-10-08T16:17:18.038014Z"
    },
    "papermill": {
     "duration": 0.523664,
     "end_time": "2021-10-08T16:21:04.349623",
     "exception": false,
     "start_time": "2021-10-08T16:21:03.825959",
     "status": "completed"
    },
    "tags": []
   },
   "outputs": [
    {
     "data": {
      "text/plain": [
       "array([1, 1, 0, ..., 1, 1, 1])"
      ]
     },
     "execution_count": 25,
     "metadata": {},
     "output_type": "execute_result"
    }
   ],
   "source": [
    "y_pred = model_best.predict(X_test)\n",
    "\n",
    "pred = np.argmax(y_pred, axis=1) #\n",
    "\n",
    "result = pd.DataFrame(testidt)\n",
    "result[1] = pred\n",
    "pred"
   ]
  },
  {
   "cell_type": "markdown",
   "id": "6c6e1deb",
   "metadata": {
    "papermill": {
     "duration": 0.241975,
     "end_time": "2021-10-08T16:21:04.878354",
     "exception": false,
     "start_time": "2021-10-08T16:21:04.636379",
     "status": "completed"
    },
    "tags": []
   },
   "source": [
    "# Submission File"
   ]
  },
  {
   "cell_type": "code",
   "execution_count": 26,
   "id": "1294dee3",
   "metadata": {
    "execution": {
     "iopub.execute_input": "2021-10-08T16:21:05.286877Z",
     "iopub.status.busy": "2021-10-08T16:21:05.282606Z",
     "iopub.status.idle": "2021-10-08T16:21:05.304534Z",
     "shell.execute_reply": "2021-10-08T16:21:05.304985Z",
     "shell.execute_reply.started": "2021-10-08T16:17:20.744948Z"
    },
    "papermill": {
     "duration": 0.226906,
     "end_time": "2021-10-08T16:21:05.305133",
     "exception": false,
     "start_time": "2021-10-08T16:21:05.078227",
     "status": "completed"
    },
    "tags": []
   },
   "outputs": [
    {
     "data": {
      "text/html": [
       "<div>\n",
       "<style scoped>\n",
       "    .dataframe tbody tr th:only-of-type {\n",
       "        vertical-align: middle;\n",
       "    }\n",
       "\n",
       "    .dataframe tbody tr th {\n",
       "        vertical-align: top;\n",
       "    }\n",
       "\n",
       "    .dataframe thead th {\n",
       "        text-align: right;\n",
       "    }\n",
       "</style>\n",
       "<table border=\"1\" class=\"dataframe\">\n",
       "  <thead>\n",
       "    <tr style=\"text-align: right;\">\n",
       "      <th></th>\n",
       "      <th>BraTS21ID</th>\n",
       "      <th>MGMT_value</th>\n",
       "    </tr>\n",
       "  </thead>\n",
       "  <tbody>\n",
       "    <tr>\n",
       "      <th>0</th>\n",
       "      <td>1</td>\n",
       "      <td>0.9</td>\n",
       "    </tr>\n",
       "    <tr>\n",
       "      <th>1</th>\n",
       "      <td>13</td>\n",
       "      <td>0.7</td>\n",
       "    </tr>\n",
       "    <tr>\n",
       "      <th>2</th>\n",
       "      <td>15</td>\n",
       "      <td>1.0</td>\n",
       "    </tr>\n",
       "    <tr>\n",
       "      <th>3</th>\n",
       "      <td>27</td>\n",
       "      <td>1.0</td>\n",
       "    </tr>\n",
       "    <tr>\n",
       "      <th>4</th>\n",
       "      <td>37</td>\n",
       "      <td>1.0</td>\n",
       "    </tr>\n",
       "    <tr>\n",
       "      <th>...</th>\n",
       "      <td>...</td>\n",
       "      <td>...</td>\n",
       "    </tr>\n",
       "    <tr>\n",
       "      <th>82</th>\n",
       "      <td>826</td>\n",
       "      <td>0.4</td>\n",
       "    </tr>\n",
       "    <tr>\n",
       "      <th>83</th>\n",
       "      <td>829</td>\n",
       "      <td>0.2</td>\n",
       "    </tr>\n",
       "    <tr>\n",
       "      <th>84</th>\n",
       "      <td>833</td>\n",
       "      <td>0.3</td>\n",
       "    </tr>\n",
       "    <tr>\n",
       "      <th>85</th>\n",
       "      <td>997</td>\n",
       "      <td>0.3</td>\n",
       "    </tr>\n",
       "    <tr>\n",
       "      <th>86</th>\n",
       "      <td>1006</td>\n",
       "      <td>1.0</td>\n",
       "    </tr>\n",
       "  </tbody>\n",
       "</table>\n",
       "<p>87 rows × 2 columns</p>\n",
       "</div>"
      ],
      "text/plain": [
       "    BraTS21ID  MGMT_value\n",
       "0           1         0.9\n",
       "1          13         0.7\n",
       "2          15         1.0\n",
       "3          27         1.0\n",
       "4          37         1.0\n",
       "..        ...         ...\n",
       "82        826         0.4\n",
       "83        829         0.2\n",
       "84        833         0.3\n",
       "85        997         0.3\n",
       "86       1006         1.0\n",
       "\n",
       "[87 rows x 2 columns]"
      ]
     },
     "execution_count": 26,
     "metadata": {},
     "output_type": "execute_result"
    }
   ],
   "source": [
    "result.columns=['BraTS21ID','MGMT_value']\n",
    "\n",
    "result2 = result.groupby('BraTS21ID',as_index=False).mean()\n",
    "result2['BraTS21ID'] = sample_submission['BraTS21ID']\n",
    "\n",
    "# Rounding... 0.907866 -> 0.9\n",
    "result2['MGMT_value'] = result2['MGMT_value'].apply(lambda x:round(x*10)/10)\n",
    "# result2['MGMT_value'] = result2['MGMT_value'] # No rounding\n",
    "result2.to_csv('submission.csv',index=False)\n",
    "result2"
   ]
  }
 ],
 "metadata": {
  "kernelspec": {
   "display_name": "Python 3",
   "language": "python",
   "name": "python3"
  },
  "language_info": {
   "codemirror_mode": {
    "name": "ipython",
    "version": 3
   },
   "file_extension": ".py",
   "mimetype": "text/x-python",
   "name": "python",
   "nbconvert_exporter": "python",
   "pygments_lexer": "ipython3",
   "version": "3.7.10"
  },
  "papermill": {
   "default_parameters": {},
   "duration": 213.822819,
   "end_time": "2021-10-08T16:21:08.565787",
   "environment_variables": {},
   "exception": null,
   "input_path": "__notebook__.ipynb",
   "output_path": "__notebook__.ipynb",
   "parameters": {},
   "start_time": "2021-10-08T16:17:34.742968",
   "version": "2.3.3"
  },
  "widgets": {
   "application/vnd.jupyter.widget-state+json": {
    "state": {
     "22912bc2f9d041bfaac16acf38371c3e": {
      "model_module": "@jupyter-widgets/controls",
      "model_module_version": "1.5.0",
      "model_name": "FloatProgressModel",
      "state": {
       "_dom_classes": [],
       "_model_module": "@jupyter-widgets/controls",
       "_model_module_version": "1.5.0",
       "_model_name": "FloatProgressModel",
       "_view_count": null,
       "_view_module": "@jupyter-widgets/controls",
       "_view_module_version": "1.5.0",
       "_view_name": "ProgressView",
       "bar_style": "success",
       "description": "",
       "description_tooltip": null,
       "layout": "IPY_MODEL_a3e4594147424c959ebe1013c038f52c",
       "max": 87.0,
       "min": 0.0,
       "orientation": "horizontal",
       "style": "IPY_MODEL_a2378ba129e74b88b8a667ce5280a8db",
       "value": 87.0
      }
     },
     "2b1fed05cadf4c62af24644b1a9a4859": {
      "model_module": "@jupyter-widgets/controls",
      "model_module_version": "1.5.0",
      "model_name": "ProgressStyleModel",
      "state": {
       "_model_module": "@jupyter-widgets/controls",
       "_model_module_version": "1.5.0",
       "_model_name": "ProgressStyleModel",
       "_view_count": null,
       "_view_module": "@jupyter-widgets/base",
       "_view_module_version": "1.2.0",
       "_view_name": "StyleView",
       "bar_color": null,
       "description_width": ""
      }
     },
     "3dad07ebc7844e929c86750c74b207bf": {
      "model_module": "@jupyter-widgets/controls",
      "model_module_version": "1.5.0",
      "model_name": "HBoxModel",
      "state": {
       "_dom_classes": [],
       "_model_module": "@jupyter-widgets/controls",
       "_model_module_version": "1.5.0",
       "_model_name": "HBoxModel",
       "_view_count": null,
       "_view_module": "@jupyter-widgets/controls",
       "_view_module_version": "1.5.0",
       "_view_name": "HBoxView",
       "box_style": "",
       "children": [
        "IPY_MODEL_cc31ed0afe314f21b13c9987b61c1f1d",
        "IPY_MODEL_963427203bd24f0ebb4f208e1c1953ba",
        "IPY_MODEL_c1bedea57a444da083efe86dddc3a101"
       ],
       "layout": "IPY_MODEL_9896a7a7e5894e35ac7a5693fd84829c"
      }
     },
     "4c355d4a84c44a73b7562752f3114945": {
      "model_module": "@jupyter-widgets/controls",
      "model_module_version": "1.5.0",
      "model_name": "HTMLModel",
      "state": {
       "_dom_classes": [],
       "_model_module": "@jupyter-widgets/controls",
       "_model_module_version": "1.5.0",
       "_model_name": "HTMLModel",
       "_view_count": null,
       "_view_module": "@jupyter-widgets/controls",
       "_view_module_version": "1.5.0",
       "_view_name": "HTMLView",
       "description": "",
       "description_tooltip": null,
       "layout": "IPY_MODEL_6b6b2f357dc24edcb3e2f3c25048b763",
       "placeholder": "​",
       "style": "IPY_MODEL_bc78f515fe7f4c8d898c344cd20ffdd4",
       "value": "100%"
      }
     },
     "5a1509e76c0f4212ac704395fe4ec309": {
      "model_module": "@jupyter-widgets/base",
      "model_module_version": "1.2.0",
      "model_name": "LayoutModel",
      "state": {
       "_model_module": "@jupyter-widgets/base",
       "_model_module_version": "1.2.0",
       "_model_name": "LayoutModel",
       "_view_count": null,
       "_view_module": "@jupyter-widgets/base",
       "_view_module_version": "1.2.0",
       "_view_name": "LayoutView",
       "align_content": null,
       "align_items": null,
       "align_self": null,
       "border": null,
       "bottom": null,
       "display": null,
       "flex": null,
       "flex_flow": null,
       "grid_area": null,
       "grid_auto_columns": null,
       "grid_auto_flow": null,
       "grid_auto_rows": null,
       "grid_column": null,
       "grid_gap": null,
       "grid_row": null,
       "grid_template_areas": null,
       "grid_template_columns": null,
       "grid_template_rows": null,
       "height": null,
       "justify_content": null,
       "justify_items": null,
       "left": null,
       "margin": null,
       "max_height": null,
       "max_width": null,
       "min_height": null,
       "min_width": null,
       "object_fit": null,
       "object_position": null,
       "order": null,
       "overflow": null,
       "overflow_x": null,
       "overflow_y": null,
       "padding": null,
       "right": null,
       "top": null,
       "visibility": null,
       "width": null
      }
     },
     "6b6b2f357dc24edcb3e2f3c25048b763": {
      "model_module": "@jupyter-widgets/base",
      "model_module_version": "1.2.0",
      "model_name": "LayoutModel",
      "state": {
       "_model_module": "@jupyter-widgets/base",
       "_model_module_version": "1.2.0",
       "_model_name": "LayoutModel",
       "_view_count": null,
       "_view_module": "@jupyter-widgets/base",
       "_view_module_version": "1.2.0",
       "_view_name": "LayoutView",
       "align_content": null,
       "align_items": null,
       "align_self": null,
       "border": null,
       "bottom": null,
       "display": null,
       "flex": null,
       "flex_flow": null,
       "grid_area": null,
       "grid_auto_columns": null,
       "grid_auto_flow": null,
       "grid_auto_rows": null,
       "grid_column": null,
       "grid_gap": null,
       "grid_row": null,
       "grid_template_areas": null,
       "grid_template_columns": null,
       "grid_template_rows": null,
       "height": null,
       "justify_content": null,
       "justify_items": null,
       "left": null,
       "margin": null,
       "max_height": null,
       "max_width": null,
       "min_height": null,
       "min_width": null,
       "object_fit": null,
       "object_position": null,
       "order": null,
       "overflow": null,
       "overflow_x": null,
       "overflow_y": null,
       "padding": null,
       "right": null,
       "top": null,
       "visibility": null,
       "width": null
      }
     },
     "7ad97682d02c473fb3cc80ecdde25331": {
      "model_module": "@jupyter-widgets/controls",
      "model_module_version": "1.5.0",
      "model_name": "DescriptionStyleModel",
      "state": {
       "_model_module": "@jupyter-widgets/controls",
       "_model_module_version": "1.5.0",
       "_model_name": "DescriptionStyleModel",
       "_view_count": null,
       "_view_module": "@jupyter-widgets/base",
       "_view_module_version": "1.2.0",
       "_view_name": "StyleView",
       "description_width": ""
      }
     },
     "963427203bd24f0ebb4f208e1c1953ba": {
      "model_module": "@jupyter-widgets/controls",
      "model_module_version": "1.5.0",
      "model_name": "FloatProgressModel",
      "state": {
       "_dom_classes": [],
       "_model_module": "@jupyter-widgets/controls",
       "_model_module_version": "1.5.0",
       "_model_name": "FloatProgressModel",
       "_view_count": null,
       "_view_module": "@jupyter-widgets/controls",
       "_view_module_version": "1.5.0",
       "_view_name": "ProgressView",
       "bar_style": "success",
       "description": "",
       "description_tooltip": null,
       "layout": "IPY_MODEL_ea9e420ff0cb4b6ea8be9d011c93ad8e",
       "max": 582.0,
       "min": 0.0,
       "orientation": "horizontal",
       "style": "IPY_MODEL_2b1fed05cadf4c62af24644b1a9a4859",
       "value": 582.0
      }
     },
     "9896a7a7e5894e35ac7a5693fd84829c": {
      "model_module": "@jupyter-widgets/base",
      "model_module_version": "1.2.0",
      "model_name": "LayoutModel",
      "state": {
       "_model_module": "@jupyter-widgets/base",
       "_model_module_version": "1.2.0",
       "_model_name": "LayoutModel",
       "_view_count": null,
       "_view_module": "@jupyter-widgets/base",
       "_view_module_version": "1.2.0",
       "_view_name": "LayoutView",
       "align_content": null,
       "align_items": null,
       "align_self": null,
       "border": null,
       "bottom": null,
       "display": null,
       "flex": null,
       "flex_flow": null,
       "grid_area": null,
       "grid_auto_columns": null,
       "grid_auto_flow": null,
       "grid_auto_rows": null,
       "grid_column": null,
       "grid_gap": null,
       "grid_row": null,
       "grid_template_areas": null,
       "grid_template_columns": null,
       "grid_template_rows": null,
       "height": null,
       "justify_content": null,
       "justify_items": null,
       "left": null,
       "margin": null,
       "max_height": null,
       "max_width": null,
       "min_height": null,
       "min_width": null,
       "object_fit": null,
       "object_position": null,
       "order": null,
       "overflow": null,
       "overflow_x": null,
       "overflow_y": null,
       "padding": null,
       "right": null,
       "top": null,
       "visibility": null,
       "width": null
      }
     },
     "a2378ba129e74b88b8a667ce5280a8db": {
      "model_module": "@jupyter-widgets/controls",
      "model_module_version": "1.5.0",
      "model_name": "ProgressStyleModel",
      "state": {
       "_model_module": "@jupyter-widgets/controls",
       "_model_module_version": "1.5.0",
       "_model_name": "ProgressStyleModel",
       "_view_count": null,
       "_view_module": "@jupyter-widgets/base",
       "_view_module_version": "1.2.0",
       "_view_name": "StyleView",
       "bar_color": null,
       "description_width": ""
      }
     },
     "a3e4594147424c959ebe1013c038f52c": {
      "model_module": "@jupyter-widgets/base",
      "model_module_version": "1.2.0",
      "model_name": "LayoutModel",
      "state": {
       "_model_module": "@jupyter-widgets/base",
       "_model_module_version": "1.2.0",
       "_model_name": "LayoutModel",
       "_view_count": null,
       "_view_module": "@jupyter-widgets/base",
       "_view_module_version": "1.2.0",
       "_view_name": "LayoutView",
       "align_content": null,
       "align_items": null,
       "align_self": null,
       "border": null,
       "bottom": null,
       "display": null,
       "flex": null,
       "flex_flow": null,
       "grid_area": null,
       "grid_auto_columns": null,
       "grid_auto_flow": null,
       "grid_auto_rows": null,
       "grid_column": null,
       "grid_gap": null,
       "grid_row": null,
       "grid_template_areas": null,
       "grid_template_columns": null,
       "grid_template_rows": null,
       "height": null,
       "justify_content": null,
       "justify_items": null,
       "left": null,
       "margin": null,
       "max_height": null,
       "max_width": null,
       "min_height": null,
       "min_width": null,
       "object_fit": null,
       "object_position": null,
       "order": null,
       "overflow": null,
       "overflow_x": null,
       "overflow_y": null,
       "padding": null,
       "right": null,
       "top": null,
       "visibility": null,
       "width": null
      }
     },
     "a9e106d6e38f49f9819d85ccb4da372a": {
      "model_module": "@jupyter-widgets/controls",
      "model_module_version": "1.5.0",
      "model_name": "DescriptionStyleModel",
      "state": {
       "_model_module": "@jupyter-widgets/controls",
       "_model_module_version": "1.5.0",
       "_model_name": "DescriptionStyleModel",
       "_view_count": null,
       "_view_module": "@jupyter-widgets/base",
       "_view_module_version": "1.2.0",
       "_view_name": "StyleView",
       "description_width": ""
      }
     },
     "bc78f515fe7f4c8d898c344cd20ffdd4": {
      "model_module": "@jupyter-widgets/controls",
      "model_module_version": "1.5.0",
      "model_name": "DescriptionStyleModel",
      "state": {
       "_model_module": "@jupyter-widgets/controls",
       "_model_module_version": "1.5.0",
       "_model_name": "DescriptionStyleModel",
       "_view_count": null,
       "_view_module": "@jupyter-widgets/base",
       "_view_module_version": "1.2.0",
       "_view_name": "StyleView",
       "description_width": ""
      }
     },
     "c1bedea57a444da083efe86dddc3a101": {
      "model_module": "@jupyter-widgets/controls",
      "model_module_version": "1.5.0",
      "model_name": "HTMLModel",
      "state": {
       "_dom_classes": [],
       "_model_module": "@jupyter-widgets/controls",
       "_model_module_version": "1.5.0",
       "_model_name": "HTMLModel",
       "_view_count": null,
       "_view_module": "@jupyter-widgets/controls",
       "_view_module_version": "1.5.0",
       "_view_name": "HTMLView",
       "description": "",
       "description_tooltip": null,
       "layout": "IPY_MODEL_5a1509e76c0f4212ac704395fe4ec309",
       "placeholder": "​",
       "style": "IPY_MODEL_e22183f509ff4ca0b53770ed822b8033",
       "value": " 582/582 [02:05&lt;00:00, 10.23it/s]"
      }
     },
     "c6621ac732f54d89b1100ed60ea8844a": {
      "model_module": "@jupyter-widgets/controls",
      "model_module_version": "1.5.0",
      "model_name": "HTMLModel",
      "state": {
       "_dom_classes": [],
       "_model_module": "@jupyter-widgets/controls",
       "_model_module_version": "1.5.0",
       "_model_name": "HTMLModel",
       "_view_count": null,
       "_view_module": "@jupyter-widgets/controls",
       "_view_module_version": "1.5.0",
       "_view_name": "HTMLView",
       "description": "",
       "description_tooltip": null,
       "layout": "IPY_MODEL_c77cddec66fc43de8fa2a760ba82b912",
       "placeholder": "​",
       "style": "IPY_MODEL_7ad97682d02c473fb3cc80ecdde25331",
       "value": " 87/87 [00:17&lt;00:00,  9.75it/s]"
      }
     },
     "c77cddec66fc43de8fa2a760ba82b912": {
      "model_module": "@jupyter-widgets/base",
      "model_module_version": "1.2.0",
      "model_name": "LayoutModel",
      "state": {
       "_model_module": "@jupyter-widgets/base",
       "_model_module_version": "1.2.0",
       "_model_name": "LayoutModel",
       "_view_count": null,
       "_view_module": "@jupyter-widgets/base",
       "_view_module_version": "1.2.0",
       "_view_name": "LayoutView",
       "align_content": null,
       "align_items": null,
       "align_self": null,
       "border": null,
       "bottom": null,
       "display": null,
       "flex": null,
       "flex_flow": null,
       "grid_area": null,
       "grid_auto_columns": null,
       "grid_auto_flow": null,
       "grid_auto_rows": null,
       "grid_column": null,
       "grid_gap": null,
       "grid_row": null,
       "grid_template_areas": null,
       "grid_template_columns": null,
       "grid_template_rows": null,
       "height": null,
       "justify_content": null,
       "justify_items": null,
       "left": null,
       "margin": null,
       "max_height": null,
       "max_width": null,
       "min_height": null,
       "min_width": null,
       "object_fit": null,
       "object_position": null,
       "order": null,
       "overflow": null,
       "overflow_x": null,
       "overflow_y": null,
       "padding": null,
       "right": null,
       "top": null,
       "visibility": null,
       "width": null
      }
     },
     "cc31ed0afe314f21b13c9987b61c1f1d": {
      "model_module": "@jupyter-widgets/controls",
      "model_module_version": "1.5.0",
      "model_name": "HTMLModel",
      "state": {
       "_dom_classes": [],
       "_model_module": "@jupyter-widgets/controls",
       "_model_module_version": "1.5.0",
       "_model_name": "HTMLModel",
       "_view_count": null,
       "_view_module": "@jupyter-widgets/controls",
       "_view_module_version": "1.5.0",
       "_view_name": "HTMLView",
       "description": "",
       "description_tooltip": null,
       "layout": "IPY_MODEL_e81311827e6948acb738038dbbe18de5",
       "placeholder": "​",
       "style": "IPY_MODEL_a9e106d6e38f49f9819d85ccb4da372a",
       "value": "100%"
      }
     },
     "ce311b5df77c4804b2a8b55ab4b12955": {
      "model_module": "@jupyter-widgets/base",
      "model_module_version": "1.2.0",
      "model_name": "LayoutModel",
      "state": {
       "_model_module": "@jupyter-widgets/base",
       "_model_module_version": "1.2.0",
       "_model_name": "LayoutModel",
       "_view_count": null,
       "_view_module": "@jupyter-widgets/base",
       "_view_module_version": "1.2.0",
       "_view_name": "LayoutView",
       "align_content": null,
       "align_items": null,
       "align_self": null,
       "border": null,
       "bottom": null,
       "display": null,
       "flex": null,
       "flex_flow": null,
       "grid_area": null,
       "grid_auto_columns": null,
       "grid_auto_flow": null,
       "grid_auto_rows": null,
       "grid_column": null,
       "grid_gap": null,
       "grid_row": null,
       "grid_template_areas": null,
       "grid_template_columns": null,
       "grid_template_rows": null,
       "height": null,
       "justify_content": null,
       "justify_items": null,
       "left": null,
       "margin": null,
       "max_height": null,
       "max_width": null,
       "min_height": null,
       "min_width": null,
       "object_fit": null,
       "object_position": null,
       "order": null,
       "overflow": null,
       "overflow_x": null,
       "overflow_y": null,
       "padding": null,
       "right": null,
       "top": null,
       "visibility": null,
       "width": null
      }
     },
     "e22183f509ff4ca0b53770ed822b8033": {
      "model_module": "@jupyter-widgets/controls",
      "model_module_version": "1.5.0",
      "model_name": "DescriptionStyleModel",
      "state": {
       "_model_module": "@jupyter-widgets/controls",
       "_model_module_version": "1.5.0",
       "_model_name": "DescriptionStyleModel",
       "_view_count": null,
       "_view_module": "@jupyter-widgets/base",
       "_view_module_version": "1.2.0",
       "_view_name": "StyleView",
       "description_width": ""
      }
     },
     "e81311827e6948acb738038dbbe18de5": {
      "model_module": "@jupyter-widgets/base",
      "model_module_version": "1.2.0",
      "model_name": "LayoutModel",
      "state": {
       "_model_module": "@jupyter-widgets/base",
       "_model_module_version": "1.2.0",
       "_model_name": "LayoutModel",
       "_view_count": null,
       "_view_module": "@jupyter-widgets/base",
       "_view_module_version": "1.2.0",
       "_view_name": "LayoutView",
       "align_content": null,
       "align_items": null,
       "align_self": null,
       "border": null,
       "bottom": null,
       "display": null,
       "flex": null,
       "flex_flow": null,
       "grid_area": null,
       "grid_auto_columns": null,
       "grid_auto_flow": null,
       "grid_auto_rows": null,
       "grid_column": null,
       "grid_gap": null,
       "grid_row": null,
       "grid_template_areas": null,
       "grid_template_columns": null,
       "grid_template_rows": null,
       "height": null,
       "justify_content": null,
       "justify_items": null,
       "left": null,
       "margin": null,
       "max_height": null,
       "max_width": null,
       "min_height": null,
       "min_width": null,
       "object_fit": null,
       "object_position": null,
       "order": null,
       "overflow": null,
       "overflow_x": null,
       "overflow_y": null,
       "padding": null,
       "right": null,
       "top": null,
       "visibility": null,
       "width": null
      }
     },
     "ea9e420ff0cb4b6ea8be9d011c93ad8e": {
      "model_module": "@jupyter-widgets/base",
      "model_module_version": "1.2.0",
      "model_name": "LayoutModel",
      "state": {
       "_model_module": "@jupyter-widgets/base",
       "_model_module_version": "1.2.0",
       "_model_name": "LayoutModel",
       "_view_count": null,
       "_view_module": "@jupyter-widgets/base",
       "_view_module_version": "1.2.0",
       "_view_name": "LayoutView",
       "align_content": null,
       "align_items": null,
       "align_self": null,
       "border": null,
       "bottom": null,
       "display": null,
       "flex": null,
       "flex_flow": null,
       "grid_area": null,
       "grid_auto_columns": null,
       "grid_auto_flow": null,
       "grid_auto_rows": null,
       "grid_column": null,
       "grid_gap": null,
       "grid_row": null,
       "grid_template_areas": null,
       "grid_template_columns": null,
       "grid_template_rows": null,
       "height": null,
       "justify_content": null,
       "justify_items": null,
       "left": null,
       "margin": null,
       "max_height": null,
       "max_width": null,
       "min_height": null,
       "min_width": null,
       "object_fit": null,
       "object_position": null,
       "order": null,
       "overflow": null,
       "overflow_x": null,
       "overflow_y": null,
       "padding": null,
       "right": null,
       "top": null,
       "visibility": null,
       "width": null
      }
     },
     "f3760ef3018e4f7f8bdea1102dceca5b": {
      "model_module": "@jupyter-widgets/controls",
      "model_module_version": "1.5.0",
      "model_name": "HBoxModel",
      "state": {
       "_dom_classes": [],
       "_model_module": "@jupyter-widgets/controls",
       "_model_module_version": "1.5.0",
       "_model_name": "HBoxModel",
       "_view_count": null,
       "_view_module": "@jupyter-widgets/controls",
       "_view_module_version": "1.5.0",
       "_view_name": "HBoxView",
       "box_style": "",
       "children": [
        "IPY_MODEL_4c355d4a84c44a73b7562752f3114945",
        "IPY_MODEL_22912bc2f9d041bfaac16acf38371c3e",
        "IPY_MODEL_c6621ac732f54d89b1100ed60ea8844a"
       ],
       "layout": "IPY_MODEL_ce311b5df77c4804b2a8b55ab4b12955"
      }
     }
    },
    "version_major": 2,
    "version_minor": 0
   }
  }
 },
 "nbformat": 4,
 "nbformat_minor": 5
}
